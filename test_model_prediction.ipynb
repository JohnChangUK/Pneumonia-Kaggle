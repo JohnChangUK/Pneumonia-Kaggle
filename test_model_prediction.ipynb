{
 "cells": [
  {
   "cell_type": "code",
   "execution_count": 24,
   "metadata": {},
   "outputs": [],
   "source": [
    "from keras.models import load_model\n",
    "from keras.preprocessing import image\n",
    "from keras.applications.vgg16 import preprocess_input\n",
    "import numpy as np"
   ]
  },
  {
   "cell_type": "code",
   "execution_count": 43,
   "metadata": {},
   "outputs": [],
   "source": [
    "model = load_model('vgg19.h5')\n",
    "normal_img = image.load_img('xray_dataset/val/NORMAL/NORMAL2-IM-1430-0001.jpeg', target_size=(224, 224))\n",
    "pneumonia_img = image.load_img('xray_dataset/val/PNEUMONIA/person1946_bacteria_4875.jpeg', target_size=(224, 224))\n",
    "normal_img_array = image.img_to_array(normal_img)\n",
    "pneumonia_img_array = image.img_to_array(pneumonia_img)\n",
    "\n",
    "# Model.predict requires 4 dimensions\n",
    "normal = np.expand_dims(normal_img_array, axis = 0)\n",
    "pneumonia = np.expand_dims(pneumonia_img_array, axis = 0)"
   ]
  },
  {
   "cell_type": "code",
   "execution_count": 48,
   "metadata": {},
   "outputs": [
    {
     "data": {
      "text/plain": [
       "array([[1.000000e+00, 4.659872e-19]], dtype=float32)"
      ]
     },
     "execution_count": 48,
     "metadata": {},
     "output_type": "execute_result"
    }
   ],
   "source": [
    "normal_image = preprocess_input(normal)\n",
    "pneumonia_image = preprocess_input(pneumonia)\n",
    "predict_normal = model.predict(normal_image)\n",
    "predict_pneumonia = model.predict(pneumonia_image)\n",
    "print('Should have predicted normal: ')"
   ]
  },
  {
   "cell_type": "code",
   "execution_count": 19,
   "metadata": {},
   "outputs": [
    {
     "name": "stderr",
     "output_type": "stream",
     "text": [
      "/home/john/anaconda3/envs/sentdex/lib/python3.6/site-packages/ipykernel_launcher.py:1: DeprecationWarning: Both axis > a.ndim and axis < -a.ndim - 1 are deprecated and will raise an AxisError in the future.\n",
      "  \"\"\"Entry point for launching an IPython kernel.\n"
     ]
    },
    {
     "data": {
      "text/plain": [
       "array([[1],\n",
       "       [2],\n",
       "       [3]])"
      ]
     },
     "execution_count": 19,
     "metadata": {},
     "output_type": "execute_result"
    }
   ],
   "source": []
  },
  {
   "cell_type": "code",
   "execution_count": null,
   "metadata": {},
   "outputs": [],
   "source": []
  }
 ],
 "metadata": {
  "kernelspec": {
   "display_name": "PyCharm (Stock_Sentiment_Analysis)",
   "language": "python",
   "name": "pycharm-8f27b82f"
  },
  "language_info": {
   "codemirror_mode": {
    "name": "ipython",
    "version": 3
   },
   "file_extension": ".py",
   "mimetype": "text/x-python",
   "name": "python",
   "nbconvert_exporter": "python",
   "pygments_lexer": "ipython3",
   "version": "3.6.8"
  }
 },
 "nbformat": 4,
 "nbformat_minor": 2
}
